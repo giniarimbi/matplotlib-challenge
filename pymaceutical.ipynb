{
 "cells": [
  {
   "cell_type": "markdown",
   "metadata": {},
   "source": [
    "## Observations and Insights"
   ]
  },
  {
   "cell_type": "markdown",
   "metadata": {},
   "source": []
  },
  {
   "cell_type": "markdown",
   "metadata": {},
   "source": [
    "## Dependencies and starter code"
   ]
  },
  {
   "cell_type": "code",
   "execution_count": 29,
   "metadata": {},
   "outputs": [],
   "source": [
    "# Dependencies and Setup\n",
    "import matplotlib.pyplot as plt\n",
    "import pandas as pd\n",
    "import scipy.stats as st\n",
    "import numpy as np\n",
    "from scipy.stats import linregress\n",
    "\n",
    "# Study data files\n",
    "mouse_metadata = \"data/Mouse_metadata.csv\"\n",
    "study_results = \"data/Study_results.csv\"\n",
    "\n",
    "# Read the mouse data and the study results\n",
    "mouse_metadata = pd.read_csv(mouse_metadata)\n",
    "study_results = pd.read_csv(study_results)"
   ]
  },
  {
   "cell_type": "code",
   "execution_count": 30,
   "metadata": {},
   "outputs": [
    {
     "data": {
      "text/html": [
       "<div>\n",
       "<style scoped>\n",
       "    .dataframe tbody tr th:only-of-type {\n",
       "        vertical-align: middle;\n",
       "    }\n",
       "\n",
       "    .dataframe tbody tr th {\n",
       "        vertical-align: top;\n",
       "    }\n",
       "\n",
       "    .dataframe thead th {\n",
       "        text-align: right;\n",
       "    }\n",
       "</style>\n",
       "<table border=\"1\" class=\"dataframe\">\n",
       "  <thead>\n",
       "    <tr style=\"text-align: right;\">\n",
       "      <th></th>\n",
       "      <th>Mouse ID</th>\n",
       "      <th>Timepoint</th>\n",
       "      <th>Tumor Volume (mm3)</th>\n",
       "      <th>Metastatic Sites</th>\n",
       "      <th>Drug Regimen</th>\n",
       "      <th>Sex</th>\n",
       "      <th>Age_months</th>\n",
       "      <th>Weight (g)</th>\n",
       "    </tr>\n",
       "  </thead>\n",
       "  <tbody>\n",
       "    <tr>\n",
       "      <td>0</td>\n",
       "      <td>k403</td>\n",
       "      <td>0</td>\n",
       "      <td>45.0</td>\n",
       "      <td>0</td>\n",
       "      <td>Ramicane</td>\n",
       "      <td>Male</td>\n",
       "      <td>21</td>\n",
       "      <td>16</td>\n",
       "    </tr>\n",
       "    <tr>\n",
       "      <td>1</td>\n",
       "      <td>k403</td>\n",
       "      <td>5</td>\n",
       "      <td>38.8</td>\n",
       "      <td>0</td>\n",
       "      <td>Ramicane</td>\n",
       "      <td>Male</td>\n",
       "      <td>21</td>\n",
       "      <td>16</td>\n",
       "    </tr>\n",
       "    <tr>\n",
       "      <td>2</td>\n",
       "      <td>k403</td>\n",
       "      <td>10</td>\n",
       "      <td>35.0</td>\n",
       "      <td>1</td>\n",
       "      <td>Ramicane</td>\n",
       "      <td>Male</td>\n",
       "      <td>21</td>\n",
       "      <td>16</td>\n",
       "    </tr>\n",
       "    <tr>\n",
       "      <td>3</td>\n",
       "      <td>k403</td>\n",
       "      <td>15</td>\n",
       "      <td>34.2</td>\n",
       "      <td>1</td>\n",
       "      <td>Ramicane</td>\n",
       "      <td>Male</td>\n",
       "      <td>21</td>\n",
       "      <td>16</td>\n",
       "    </tr>\n",
       "    <tr>\n",
       "      <td>4</td>\n",
       "      <td>k403</td>\n",
       "      <td>20</td>\n",
       "      <td>33.0</td>\n",
       "      <td>1</td>\n",
       "      <td>Ramicane</td>\n",
       "      <td>Male</td>\n",
       "      <td>21</td>\n",
       "      <td>16</td>\n",
       "    </tr>\n",
       "    <tr>\n",
       "      <td>...</td>\n",
       "      <td>...</td>\n",
       "      <td>...</td>\n",
       "      <td>...</td>\n",
       "      <td>...</td>\n",
       "      <td>...</td>\n",
       "      <td>...</td>\n",
       "      <td>...</td>\n",
       "      <td>...</td>\n",
       "    </tr>\n",
       "    <tr>\n",
       "      <td>1888</td>\n",
       "      <td>z969</td>\n",
       "      <td>25</td>\n",
       "      <td>63.1</td>\n",
       "      <td>2</td>\n",
       "      <td>Naftisol</td>\n",
       "      <td>Male</td>\n",
       "      <td>9</td>\n",
       "      <td>30</td>\n",
       "    </tr>\n",
       "    <tr>\n",
       "      <td>1889</td>\n",
       "      <td>z969</td>\n",
       "      <td>30</td>\n",
       "      <td>65.8</td>\n",
       "      <td>3</td>\n",
       "      <td>Naftisol</td>\n",
       "      <td>Male</td>\n",
       "      <td>9</td>\n",
       "      <td>30</td>\n",
       "    </tr>\n",
       "    <tr>\n",
       "      <td>1890</td>\n",
       "      <td>z969</td>\n",
       "      <td>35</td>\n",
       "      <td>69.2</td>\n",
       "      <td>4</td>\n",
       "      <td>Naftisol</td>\n",
       "      <td>Male</td>\n",
       "      <td>9</td>\n",
       "      <td>30</td>\n",
       "    </tr>\n",
       "    <tr>\n",
       "      <td>1891</td>\n",
       "      <td>z969</td>\n",
       "      <td>40</td>\n",
       "      <td>70.3</td>\n",
       "      <td>4</td>\n",
       "      <td>Naftisol</td>\n",
       "      <td>Male</td>\n",
       "      <td>9</td>\n",
       "      <td>30</td>\n",
       "    </tr>\n",
       "    <tr>\n",
       "      <td>1892</td>\n",
       "      <td>z969</td>\n",
       "      <td>45</td>\n",
       "      <td>73.9</td>\n",
       "      <td>4</td>\n",
       "      <td>Naftisol</td>\n",
       "      <td>Male</td>\n",
       "      <td>9</td>\n",
       "      <td>30</td>\n",
       "    </tr>\n",
       "  </tbody>\n",
       "</table>\n",
       "<p>1893 rows × 8 columns</p>\n",
       "</div>"
      ],
      "text/plain": [
       "     Mouse ID  Timepoint Tumor Volume (mm3)  Metastatic Sites Drug Regimen  \\\n",
       "0        k403          0               45.0                 0     Ramicane   \n",
       "1        k403          5               38.8                 0     Ramicane   \n",
       "2        k403         10               35.0                 1     Ramicane   \n",
       "3        k403         15               34.2                 1     Ramicane   \n",
       "4        k403         20               33.0                 1     Ramicane   \n",
       "...       ...        ...                ...               ...          ...   \n",
       "1888     z969         25               63.1                 2     Naftisol   \n",
       "1889     z969         30               65.8                 3     Naftisol   \n",
       "1890     z969         35               69.2                 4     Naftisol   \n",
       "1891     z969         40               70.3                 4     Naftisol   \n",
       "1892     z969         45               73.9                 4     Naftisol   \n",
       "\n",
       "       Sex  Age_months  Weight (g)  \n",
       "0     Male          21          16  \n",
       "1     Male          21          16  \n",
       "2     Male          21          16  \n",
       "3     Male          21          16  \n",
       "4     Male          21          16  \n",
       "...    ...         ...         ...  \n",
       "1888  Male           9          30  \n",
       "1889  Male           9          30  \n",
       "1890  Male           9          30  \n",
       "1891  Male           9          30  \n",
       "1892  Male           9          30  \n",
       "\n",
       "[1893 rows x 8 columns]"
      ]
     },
     "execution_count": 30,
     "metadata": {},
     "output_type": "execute_result"
    }
   ],
   "source": [
    "# Combine the data into a single dataset\n",
    "\n",
    "combined_df=pd.merge(mouse_metadata,study_results,on=\"Mouse ID\")\n",
    "\n",
    "#rearrange column name and format decimal for \"Tumor Volume (mm3)\" column\n",
    "combined_pharma_df=combined_df[[\"Mouse ID\", \"Timepoint\",\"Tumor Volume (mm3)\", \"Metastatic Sites\", \"Drug Regimen\", \n",
    "                                \"Sex\", \"Age_months\", \"Weight (g)\"]]\n",
    "\n",
    "combined_pharma_df[\"Tumor Volume (mm3)\"]=combined_pharma_df[\"Tumor Volume (mm3)\"].map(\"{:.1f}\".format)\n",
    "combined_pharma_df"
   ]
  },
  {
   "cell_type": "markdown",
   "metadata": {},
   "source": [
    "## Summary statistics"
   ]
  },
  {
   "cell_type": "code",
   "execution_count": 31,
   "metadata": {},
   "outputs": [],
   "source": [
    "# Generate a summary statistics table of mean, median, variance, standard deviation, and SEM of the tumor volume for each regimen"
   ]
  },
  {
   "cell_type": "code",
   "execution_count": 32,
   "metadata": {},
   "outputs": [],
   "source": [
    "#group by drug_regimen and show summary statsitics\n",
    "drug_regimen_df=combined_df.groupby([\"Drug Regimen\"])\n",
    "\n",
    "mean_tumorvolume=drug_regimen_df[\"Tumor Volume (mm3)\"].mean()\n",
    "median_tumorvolume=drug_regimen_df[\"Tumor Volume (mm3)\"].median()\n",
    "variance_tumorvolume=drug_regimen_df[\"Tumor Volume (mm3)\"].var()\n",
    "stdev_tumorvolume=drug_regimen_df[\"Tumor Volume (mm3)\"].std()\n",
    "stderror_tumorvolume=drug_regimen_df[\"Tumor Volume (mm3)\"].sem() "
   ]
  },
  {
   "cell_type": "code",
   "execution_count": 33,
   "metadata": {},
   "outputs": [
    {
     "data": {
      "text/html": [
       "<div>\n",
       "<style scoped>\n",
       "    .dataframe tbody tr th:only-of-type {\n",
       "        vertical-align: middle;\n",
       "    }\n",
       "\n",
       "    .dataframe tbody tr th {\n",
       "        vertical-align: top;\n",
       "    }\n",
       "\n",
       "    .dataframe thead th {\n",
       "        text-align: right;\n",
       "    }\n",
       "</style>\n",
       "<table border=\"1\" class=\"dataframe\">\n",
       "  <thead>\n",
       "    <tr style=\"text-align: right;\">\n",
       "      <th></th>\n",
       "      <th>Mean Tumor Volume</th>\n",
       "      <th>Median Tumor Volume</th>\n",
       "      <th>Tumor Volume Variance</th>\n",
       "      <th>Tumor Volume Std. Dev.</th>\n",
       "      <th>Tumor Volume Std. Err</th>\n",
       "    </tr>\n",
       "    <tr>\n",
       "      <th>Drug Regimen</th>\n",
       "      <th></th>\n",
       "      <th></th>\n",
       "      <th></th>\n",
       "      <th></th>\n",
       "      <th></th>\n",
       "    </tr>\n",
       "  </thead>\n",
       "  <tbody>\n",
       "    <tr>\n",
       "      <td>Capomulin</td>\n",
       "      <td>40.675741</td>\n",
       "      <td>41.557809</td>\n",
       "      <td>24.947764</td>\n",
       "      <td>4.994774</td>\n",
       "      <td>0.329346</td>\n",
       "    </tr>\n",
       "    <tr>\n",
       "      <td>Ceftamin</td>\n",
       "      <td>52.591172</td>\n",
       "      <td>51.776157</td>\n",
       "      <td>39.290177</td>\n",
       "      <td>6.268188</td>\n",
       "      <td>0.469821</td>\n",
       "    </tr>\n",
       "    <tr>\n",
       "      <td>Infubinol</td>\n",
       "      <td>52.884795</td>\n",
       "      <td>51.820584</td>\n",
       "      <td>43.128684</td>\n",
       "      <td>6.567243</td>\n",
       "      <td>0.492236</td>\n",
       "    </tr>\n",
       "    <tr>\n",
       "      <td>Ketapril</td>\n",
       "      <td>55.235638</td>\n",
       "      <td>53.698743</td>\n",
       "      <td>68.553577</td>\n",
       "      <td>8.279709</td>\n",
       "      <td>0.603860</td>\n",
       "    </tr>\n",
       "    <tr>\n",
       "      <td>Naftisol</td>\n",
       "      <td>54.331565</td>\n",
       "      <td>52.509285</td>\n",
       "      <td>66.173479</td>\n",
       "      <td>8.134708</td>\n",
       "      <td>0.596466</td>\n",
       "    </tr>\n",
       "    <tr>\n",
       "      <td>Placebo</td>\n",
       "      <td>54.033581</td>\n",
       "      <td>52.288934</td>\n",
       "      <td>61.168083</td>\n",
       "      <td>7.821003</td>\n",
       "      <td>0.581331</td>\n",
       "    </tr>\n",
       "    <tr>\n",
       "      <td>Propriva</td>\n",
       "      <td>52.322552</td>\n",
       "      <td>50.854632</td>\n",
       "      <td>42.351070</td>\n",
       "      <td>6.507770</td>\n",
       "      <td>0.512884</td>\n",
       "    </tr>\n",
       "    <tr>\n",
       "      <td>Ramicane</td>\n",
       "      <td>40.216745</td>\n",
       "      <td>40.673236</td>\n",
       "      <td>23.486704</td>\n",
       "      <td>4.846308</td>\n",
       "      <td>0.320955</td>\n",
       "    </tr>\n",
       "    <tr>\n",
       "      <td>Stelasyn</td>\n",
       "      <td>54.233149</td>\n",
       "      <td>52.431737</td>\n",
       "      <td>59.450562</td>\n",
       "      <td>7.710419</td>\n",
       "      <td>0.573111</td>\n",
       "    </tr>\n",
       "    <tr>\n",
       "      <td>Zoniferol</td>\n",
       "      <td>53.236507</td>\n",
       "      <td>51.818479</td>\n",
       "      <td>48.533355</td>\n",
       "      <td>6.966589</td>\n",
       "      <td>0.516398</td>\n",
       "    </tr>\n",
       "  </tbody>\n",
       "</table>\n",
       "</div>"
      ],
      "text/plain": [
       "              Mean Tumor Volume  Median Tumor Volume  Tumor Volume Variance  \\\n",
       "Drug Regimen                                                                  \n",
       "Capomulin             40.675741            41.557809              24.947764   \n",
       "Ceftamin              52.591172            51.776157              39.290177   \n",
       "Infubinol             52.884795            51.820584              43.128684   \n",
       "Ketapril              55.235638            53.698743              68.553577   \n",
       "Naftisol              54.331565            52.509285              66.173479   \n",
       "Placebo               54.033581            52.288934              61.168083   \n",
       "Propriva              52.322552            50.854632              42.351070   \n",
       "Ramicane              40.216745            40.673236              23.486704   \n",
       "Stelasyn              54.233149            52.431737              59.450562   \n",
       "Zoniferol             53.236507            51.818479              48.533355   \n",
       "\n",
       "              Tumor Volume Std. Dev.  Tumor Volume Std. Err  \n",
       "Drug Regimen                                                 \n",
       "Capomulin                   4.994774               0.329346  \n",
       "Ceftamin                    6.268188               0.469821  \n",
       "Infubinol                   6.567243               0.492236  \n",
       "Ketapril                    8.279709               0.603860  \n",
       "Naftisol                    8.134708               0.596466  \n",
       "Placebo                     7.821003               0.581331  \n",
       "Propriva                    6.507770               0.512884  \n",
       "Ramicane                    4.846308               0.320955  \n",
       "Stelasyn                    7.710419               0.573111  \n",
       "Zoniferol                   6.966589               0.516398  "
      ]
     },
     "execution_count": 33,
     "metadata": {},
     "output_type": "execute_result"
    }
   ],
   "source": [
    "#create new dataframe\n",
    "statistics_tumorvolume_df=pd.DataFrame({\"Mean Tumor Volume\":mean_tumorvolume,\n",
    "                          \"Median Tumor Volume\":median_tumorvolume,\n",
    "                          \"Tumor Volume Variance\" : variance_tumorvolume,\n",
    "                         \"Tumor Volume Std. Dev.\":stdev_tumorvolume,\n",
    "                           \"Tumor Volume Std. Err\": stderror_tumorvolume\n",
    "                                       })\n",
    "                                       \n",
    "statistics_tumorvolume_df"
   ]
  },
  {
   "cell_type": "code",
   "execution_count": 34,
   "metadata": {},
   "outputs": [
    {
     "data": {
      "text/html": [
       "<div>\n",
       "<style scoped>\n",
       "    .dataframe tbody tr th:only-of-type {\n",
       "        vertical-align: middle;\n",
       "    }\n",
       "\n",
       "    .dataframe tbody tr th {\n",
       "        vertical-align: top;\n",
       "    }\n",
       "\n",
       "    .dataframe thead th {\n",
       "        text-align: right;\n",
       "    }\n",
       "</style>\n",
       "<table border=\"1\" class=\"dataframe\">\n",
       "  <thead>\n",
       "    <tr style=\"text-align: right;\">\n",
       "      <th></th>\n",
       "      <th>mean</th>\n",
       "      <th>median</th>\n",
       "      <th>var</th>\n",
       "      <th>std</th>\n",
       "      <th>sem</th>\n",
       "    </tr>\n",
       "    <tr>\n",
       "      <th>Drug Regimen</th>\n",
       "      <th></th>\n",
       "      <th></th>\n",
       "      <th></th>\n",
       "      <th></th>\n",
       "      <th></th>\n",
       "    </tr>\n",
       "  </thead>\n",
       "  <tbody>\n",
       "    <tr>\n",
       "      <td>Capomulin</td>\n",
       "      <td>40.675741</td>\n",
       "      <td>41.557809</td>\n",
       "      <td>24.947764</td>\n",
       "      <td>4.994774</td>\n",
       "      <td>0.329346</td>\n",
       "    </tr>\n",
       "    <tr>\n",
       "      <td>Ceftamin</td>\n",
       "      <td>52.591172</td>\n",
       "      <td>51.776157</td>\n",
       "      <td>39.290177</td>\n",
       "      <td>6.268188</td>\n",
       "      <td>0.469821</td>\n",
       "    </tr>\n",
       "    <tr>\n",
       "      <td>Infubinol</td>\n",
       "      <td>52.884795</td>\n",
       "      <td>51.820584</td>\n",
       "      <td>43.128684</td>\n",
       "      <td>6.567243</td>\n",
       "      <td>0.492236</td>\n",
       "    </tr>\n",
       "    <tr>\n",
       "      <td>Ketapril</td>\n",
       "      <td>55.235638</td>\n",
       "      <td>53.698743</td>\n",
       "      <td>68.553577</td>\n",
       "      <td>8.279709</td>\n",
       "      <td>0.603860</td>\n",
       "    </tr>\n",
       "    <tr>\n",
       "      <td>Naftisol</td>\n",
       "      <td>54.331565</td>\n",
       "      <td>52.509285</td>\n",
       "      <td>66.173479</td>\n",
       "      <td>8.134708</td>\n",
       "      <td>0.596466</td>\n",
       "    </tr>\n",
       "    <tr>\n",
       "      <td>Placebo</td>\n",
       "      <td>54.033581</td>\n",
       "      <td>52.288934</td>\n",
       "      <td>61.168083</td>\n",
       "      <td>7.821003</td>\n",
       "      <td>0.581331</td>\n",
       "    </tr>\n",
       "    <tr>\n",
       "      <td>Propriva</td>\n",
       "      <td>52.322552</td>\n",
       "      <td>50.854632</td>\n",
       "      <td>42.351070</td>\n",
       "      <td>6.507770</td>\n",
       "      <td>0.512884</td>\n",
       "    </tr>\n",
       "    <tr>\n",
       "      <td>Ramicane</td>\n",
       "      <td>40.216745</td>\n",
       "      <td>40.673236</td>\n",
       "      <td>23.486704</td>\n",
       "      <td>4.846308</td>\n",
       "      <td>0.320955</td>\n",
       "    </tr>\n",
       "    <tr>\n",
       "      <td>Stelasyn</td>\n",
       "      <td>54.233149</td>\n",
       "      <td>52.431737</td>\n",
       "      <td>59.450562</td>\n",
       "      <td>7.710419</td>\n",
       "      <td>0.573111</td>\n",
       "    </tr>\n",
       "    <tr>\n",
       "      <td>Zoniferol</td>\n",
       "      <td>53.236507</td>\n",
       "      <td>51.818479</td>\n",
       "      <td>48.533355</td>\n",
       "      <td>6.966589</td>\n",
       "      <td>0.516398</td>\n",
       "    </tr>\n",
       "  </tbody>\n",
       "</table>\n",
       "</div>"
      ],
      "text/plain": [
       "                   mean     median        var       std       sem\n",
       "Drug Regimen                                                     \n",
       "Capomulin     40.675741  41.557809  24.947764  4.994774  0.329346\n",
       "Ceftamin      52.591172  51.776157  39.290177  6.268188  0.469821\n",
       "Infubinol     52.884795  51.820584  43.128684  6.567243  0.492236\n",
       "Ketapril      55.235638  53.698743  68.553577  8.279709  0.603860\n",
       "Naftisol      54.331565  52.509285  66.173479  8.134708  0.596466\n",
       "Placebo       54.033581  52.288934  61.168083  7.821003  0.581331\n",
       "Propriva      52.322552  50.854632  42.351070  6.507770  0.512884\n",
       "Ramicane      40.216745  40.673236  23.486704  4.846308  0.320955\n",
       "Stelasyn      54.233149  52.431737  59.450562  7.710419  0.573111\n",
       "Zoniferol     53.236507  51.818479  48.533355  6.966589  0.516398"
      ]
     },
     "execution_count": 34,
     "metadata": {},
     "output_type": "execute_result"
    }
   ],
   "source": [
    "#rename column header\n",
    "statistics_tumorvolume_rename=statistics_tumorvolume_df.rename(columns={\"Mean Tumor Volume\":\"mean\",\n",
    "                          \"Median Tumor Volume\":\"median\",\n",
    "                          \"Tumor Volume Variance\" : \"var\",\n",
    "                         \"Tumor Volume Std. Dev.\":\"std\",\n",
    "                           \"Tumor Volume Std. Err\": \"sem\"\n",
    "                                       })\n",
    "                                       \n",
    "statistics_tumorvolume_rename\n",
    "\n",
    "#add title for dataframe"
   ]
  },
  {
   "cell_type": "markdown",
   "metadata": {},
   "source": [
    "## Bar plots"
   ]
  },
  {
   "cell_type": "code",
   "execution_count": 79,
   "metadata": {},
   "outputs": [],
   "source": [
    "# Generate a bar plot showing number of data points for each treatment regimen using pandas\n",
    "#create dataframe for number of data points per drug regimen\n",
    "datapoints_drug_regimen=drug_regimen_df[\"Mouse ID\"].count()\n",
    "\n",
    "datapoints_drug_regimen_df=pd.DataFrame({\"Count\":datapoints_drug_regimen})\n",
    "\n",
    "\n",
    "#sort_df=datapoints_drug_regimen_df.sort([\"Count\"], ascending=False)"
   ]
  },
  {
   "cell_type": "code",
   "execution_count": 57,
   "metadata": {},
   "outputs": [
    {
     "data": {
      "image/png": "[encoded data removed]",
      "text/plain": [
       "<Figure size 432x288 with 1 Axes>"
      ]
     },
     "metadata": {
      "needs_background": "light"
     },
     "output_type": "display_data"
    }
   ],
   "source": [
    "datapoints_drug_regimen_df.plot(kind=\"bar\",facecolor=\"blue\")\n",
    "\n",
    "plt.ylabel(\"Number of Data Points\")\n",
    "\n",
    "plt.show()"
   ]
  },
  {
   "cell_type": "code",
   "execution_count": 61,
   "metadata": {},
   "outputs": [
    {
     "data": {
      "text/plain": [
       "Drug Regimen\n",
       "Capomulin    230\n",
       "Ceftamin     178\n",
       "Infubinol    178\n",
       "Ketapril     188\n",
       "Naftisol     186\n",
       "Placebo      181\n",
       "Propriva     161\n",
       "Ramicane     228\n",
       "Stelasyn     181\n",
       "Zoniferol    182\n",
       "Name: Mouse ID, dtype: int64"
      ]
     },
     "execution_count": 61,
     "metadata": {},
     "output_type": "execute_result"
    }
   ],
   "source": [
    "# Generate a bar plot showing number of data points for each treatment regimen using pyplot\n",
    "\n",
    "x_axis=np.arange(len(datapoints_drug_regimen))\n",
    "\n",
    "datapoints_drug_regimen"
   ]
  },
  {
   "cell_type": "code",
   "execution_count": 38,
   "metadata": {},
   "outputs": [
    {
     "data": {
      "text/plain": [
       "Index(['Capomulin', 'Ceftamin', 'Infubinol', 'Ketapril', 'Naftisol', 'Placebo',\n",
       "       'Propriva', 'Ramicane', 'Stelasyn', 'Zoniferol'],\n",
       "      dtype='object', name='Drug Regimen')"
      ]
     },
     "execution_count": 38,
     "metadata": {},
     "output_type": "execute_result"
    }
   ],
   "source": [
    "#label of bars from list of drug regimen\n",
    "statistics_tumorvolume_rename.index"
   ]
  },
  {
   "cell_type": "code",
   "execution_count": 58,
   "metadata": {},
   "outputs": [
    {
     "data": {
      "image/png": "[encoded data removed]",
      "text/plain": [
       "<Figure size 432x288 with 1 Axes>"
      ]
     },
     "metadata": {
      "needs_background": "light"
     },
     "output_type": "display_data"
    }
   ],
   "source": [
    "#create bar plot with pyplot\n",
    "plt.bar(x_axis,datapoints_drug_regimen,color='b',alpha=0.8,align=\"center\")\n",
    "\n",
    "#add x and y label\n",
    "plt.xlabel(\"Drug Regimen\")\n",
    "plt.ylabel(\"Number of Data Points\")\n",
    "\n",
    "#tick locations\n",
    "tick_locations=[value for value in x_axis]\n",
    "plt.xticks(tick_locations,statistics_tumorvolume_rename.index,rotation=\"vertical\")\n",
    "plt.show()"
   ]
  },
  {
   "cell_type": "markdown",
   "metadata": {},
   "source": [
    "## Pie plots"
   ]
  },
  {
   "cell_type": "code",
   "execution_count": 40,
   "metadata": {},
   "outputs": [],
   "source": [
    "#count for male and female. counts() create an object that store the keys with its values\n",
    "mouse_sex_value=combined_pharma_df[\"Sex\"].value_counts()\n"
   ]
  },
  {
   "cell_type": "code",
   "execution_count": 41,
   "metadata": {},
   "outputs": [
    {
     "data": {
      "image/png": "[encoded data removed]",
      "text/plain": [
       "<Figure size 432x288 with 1 Axes>"
      ]
     },
     "metadata": {},
     "output_type": "display_data"
    }
   ],
   "source": [
    "#create pie chart plot from pandas\n",
    "\n",
    "mouse_sex_pie=mouse_sex_value.plot(kind=\"pie\")\n"
   ]
  },
  {
   "cell_type": "code",
   "execution_count": 42,
   "metadata": {},
   "outputs": [
    {
     "data": {
      "image/png": "[encoded data removed]",
      "text/plain": [
       "<Figure size 432x288 with 1 Axes>"
      ]
     },
     "metadata": {},
     "output_type": "display_data"
    }
   ],
   "source": [
    "# Generate a pie plot showing the distribution of female versus male mice using pyplot\n",
    "\n",
    "#pie plot properties\n",
    "explode=(0,0)\n",
    "colors=[\"blue\",\"orange\"]\n",
    "\n",
    "labels=combined_df[\"Sex\"].unique().tolist()\n",
    "\n",
    "plt.ylabel(\"Sex\")\n",
    "\n",
    "plt.pie(mouse_sex_value,explode=explode,labels=labels,colors=colors,\n",
    "        autopct=\"%1.1f%%\" ,shadow=False,startangle=0)\n",
    "plt.show()"
   ]
  },
  {
   "cell_type": "markdown",
   "metadata": {},
   "source": [
    "## Quartiles, outliers and boxplots"
   ]
  },
  {
   "cell_type": "code",
   "execution_count": 43,
   "metadata": {},
   "outputs": [],
   "source": [
    "# Calculate the final tumor volume of each mouse across four of the most promising treatment regimens. \n",
    "#Calculate the IQR and quantitatively determine if there are any potential outliers.\n",
    "\n",
    "#create dataframe based on maximum final days of mouse\n",
    "\n",
    "max_mouse=combined_df.groupby([\"Mouse ID\"]).max()\n",
    "max_mouse=max_mouse.reset_index()\n",
    "\n",
    "#combine data of final days with the original dataframe\n",
    "mouse_combined=max_mouse[[\"Mouse ID\",\"Timepoint\"]].merge(combined_df,on=[\"Mouse ID\",\"Timepoint\"])"
   ]
  },
  {
   "cell_type": "code",
   "execution_count": 44,
   "metadata": {},
   "outputs": [],
   "source": [
    "#select data for each 4 drugs\n",
    "\n",
    "capomuline=mouse_combined.loc[mouse_combined[\"Drug Regimen\"]==\"Capomulin\"][\"Tumor Volume (mm3)\"]\n",
    "\n",
    "ramicane=mouse_combined.loc[mouse_combined[\"Drug Regimen\"]==\"Ramicane\"][\"Tumor Volume (mm3)\"]\n",
    "\n",
    "infubinol=mouse_combined.loc[mouse_combined[\"Drug Regimen\"]==\"Infubinol\"][\"Tumor Volume (mm3)\"]\n",
    "\n",
    "ceftamin=mouse_combined.loc[mouse_combined[\"Drug Regimen\"]==\"Ceftamin\"][\"Tumor Volume (mm3)\"]"
   ]
  },
  {
   "cell_type": "code",
   "execution_count": 45,
   "metadata": {},
   "outputs": [
    {
     "data": {
      "image/png": "[encoded data removed]",
      "text/plain": [
       "<Figure size 432x288 with 1 Axes>"
      ]
     },
     "metadata": {
      "needs_background": "light"
     },
     "output_type": "display_data"
    }
   ],
   "source": [
    "#create boxplot for the 4 drugs\n",
    "data=capomuline,ramicane,infubinol,ceftamin\n",
    "\n",
    "\n",
    "\n",
    "fig1, ax1 = plt.subplots()\n",
    "ax1.boxplot(data)\n",
    "\n",
    "plt.ylabel(\"Final Tumor Volume (mm3)\")\n",
    "\n",
    "plt.xticks([1, 2, 3,4], ['Capomulin','Ramicane','Infubinol','Ceftamin'])\n",
    "\n",
    "\n",
    "\n",
    "plt.show()"
   ]
  },
  {
   "cell_type": "code",
   "execution_count": 46,
   "metadata": {},
   "outputs": [
    {
     "name": "stdout",
     "output_type": "stream",
     "text": [
      "The lower quartile of capomuline is: 32.37735684\n",
      "The upper quartile of capomuline is: 40.1592203\n",
      "The interquartile range of capomuline is: 7.781863460000004\n",
      "The the median of capomuline is: 38.125164399999996 \n",
      "Values below 20.70456164999999 could be outliers.\n",
      "Values above 51.83201549 could be outliers.\n"
     ]
    }
   ],
   "source": [
    "#Calculate IQR\n",
    "#quartiles and outliers for capomuline\n",
    "quartiles = capomuline.quantile([.25,.5,.75])\n",
    "lowerq = quartiles[0.25]\n",
    "upperq = quartiles[0.75]\n",
    "iqr = upperq-lowerq\n",
    "\n",
    "print(f\"The lower quartile of capomuline is: {lowerq}\")\n",
    "print(f\"The upper quartile of capomuline is: {upperq}\")\n",
    "print(f\"The interquartile range of capomuline is: {iqr}\")\n",
    "print(f\"The the median of capomuline is: {quartiles[0.5]} \")\n",
    "\n",
    "lower_bound = lowerq - (1.5*iqr)\n",
    "upper_bound = upperq + (1.5*iqr)\n",
    "print(f\"Values below {lower_bound} could be outliers.\")\n",
    "print(f\"Values above {upper_bound} could be outliers.\")\n"
   ]
  },
  {
   "cell_type": "code",
   "execution_count": 47,
   "metadata": {},
   "outputs": [
    {
     "name": "stdout",
     "output_type": "stream",
     "text": [
      "The lower quartile of ramicane is: 31.56046955\n",
      "The upper quartile of ramicane is: 40.65900627\n",
      "The interquartile range of ramicane is: 9.098536719999998\n",
      "The the median of ramicane is: 36.56165229 \n",
      "Values below 17.912664470000003 could be outliers.\n",
      "Values above 54.30681135 could be outliers.\n"
     ]
    }
   ],
   "source": [
    "#quartiles and outliers for ramicane\n",
    "quartiles2 = ramicane.quantile([.25,.5,.75])\n",
    "lowerq2 = quartiles2[0.25]\n",
    "upperq2 = quartiles2[0.75]\n",
    "iqr2 = upperq2-lowerq2\n",
    "\n",
    "print(f\"The lower quartile of ramicane is: {lowerq2}\")\n",
    "print(f\"The upper quartile of ramicane is: {upperq2}\")\n",
    "print(f\"The interquartile range of ramicane is: {iqr2}\")\n",
    "print(f\"The the median of ramicane is: {quartiles2[0.5]} \")\n",
    "\n",
    "lower_bound2 = lowerq2 - (1.5*iqr2)\n",
    "upper_bound2 = upperq2 + (1.5*iqr2)\n",
    "print(f\"Values below {lower_bound2} could be outliers.\")\n",
    "print(f\"Values above {upper_bound2} could be outliers.\")\n",
    "\n",
    "#ceftamine"
   ]
  },
  {
   "cell_type": "code",
   "execution_count": 48,
   "metadata": {},
   "outputs": [
    {
     "name": "stdout",
     "output_type": "stream",
     "text": [
      "The lower quartile of infubinol is: 54.04860769\n",
      "The upper quartile of infubinol is: 65.52574285\n",
      "The interquartile range of infubinol is: 11.477135160000003\n",
      "The the median of infubinol is: 36.56165229 \n",
      "Values below 36.83290494999999 could be outliers.\n",
      "Values above 82.74144559000001 could be outliers.\n"
     ]
    }
   ],
   "source": [
    "#quartiles and outliers for infubinol\n",
    "quartiles3 = infubinol.quantile([.25,.5,.75])\n",
    "lowerq3 = quartiles3[0.25]\n",
    "upperq3 = quartiles3[0.75]\n",
    "iqr3 = upperq3-lowerq3\n",
    "\n",
    "print(f\"The lower quartile of infubinol is: {lowerq3}\")\n",
    "print(f\"The upper quartile of infubinol is: {upperq3}\")\n",
    "print(f\"The interquartile range of infubinol is: {iqr3}\")\n",
    "print(f\"The the median of infubinol is: {quartiles2[0.5]} \")\n",
    "\n",
    "lower_bound3 = lowerq3 - (1.5*iqr3)\n",
    "upper_bound3 = upperq3 + (1.5*iqr3)\n",
    "print(f\"Values below {lower_bound3} could be outliers.\")\n",
    "print(f\"Values above {upper_bound3} could be outliers.\")"
   ]
  },
  {
   "cell_type": "code",
   "execution_count": 49,
   "metadata": {},
   "outputs": [
    {
     "name": "stdout",
     "output_type": "stream",
     "text": [
      "The lower quartile of ceftamin is: 48.72207785\n",
      "The upper quartile of ceftamin is: 64.29983003\n",
      "The interquartile range of ceftamin is: 7.781863460000004\n",
      "The the median of ceftamin is: 36.56165229 \n",
      "Values below 37.04928265999999 could be outliers.\n",
      "Values above 75.97262522 could be outliers.\n"
     ]
    }
   ],
   "source": [
    "#quartiles and outliers for ceftamin\n",
    "quartiles4 = ceftamin.quantile([.25,.5,.75])\n",
    "lowerq4 = quartiles4[0.25]\n",
    "upperq4 = quartiles4[0.75]\n",
    "iqr4 = upperq-lowerq\n",
    "\n",
    "print(f\"The lower quartile of ceftamin is: {lowerq4}\")\n",
    "print(f\"The upper quartile of ceftamin is: {upperq4}\")\n",
    "print(f\"The interquartile range of ceftamin is: {iqr4}\")\n",
    "print(f\"The the median of ceftamin is: {quartiles2[0.5]} \")\n",
    "\n",
    "lower_bound4 = lowerq4 - (1.5*iqr4)\n",
    "upper_bound4 = upperq4 + (1.5*iqr4)\n",
    "print(f\"Values below {lower_bound4} could be outliers.\")\n",
    "print(f\"Values above {upper_bound4} could be outliers.\")"
   ]
  },
  {
   "cell_type": "markdown",
   "metadata": {},
   "source": [
    "## Line and scatter plots"
   ]
  },
  {
   "cell_type": "code",
   "execution_count": 81,
   "metadata": {},
   "outputs": [
    {
     "data": {
      "text/html": [
       "<div>\n",
       "<style scoped>\n",
       "    .dataframe tbody tr th:only-of-type {\n",
       "        vertical-align: middle;\n",
       "    }\n",
       "\n",
       "    .dataframe tbody tr th {\n",
       "        vertical-align: top;\n",
       "    }\n",
       "\n",
       "    .dataframe thead th {\n",
       "        text-align: right;\n",
       "    }\n",
       "</style>\n",
       "<table border=\"1\" class=\"dataframe\">\n",
       "  <thead>\n",
       "    <tr style=\"text-align: right;\">\n",
       "      <th></th>\n",
       "      <th>Mouse ID</th>\n",
       "      <th>Timepoint</th>\n",
       "      <th>Tumor Volume (mm3)</th>\n",
       "      <th>Metastatic Sites</th>\n",
       "      <th>Drug Regimen</th>\n",
       "      <th>Sex</th>\n",
       "      <th>Age_months</th>\n",
       "      <th>Weight (g)</th>\n",
       "    </tr>\n",
       "  </thead>\n",
       "  <tbody>\n",
       "    <tr>\n",
       "      <td>371</td>\n",
       "      <td>l509</td>\n",
       "      <td>0</td>\n",
       "      <td>45.0</td>\n",
       "      <td>0</td>\n",
       "      <td>Capomulin</td>\n",
       "      <td>Male</td>\n",
       "      <td>17</td>\n",
       "      <td>21</td>\n",
       "    </tr>\n",
       "    <tr>\n",
       "      <td>372</td>\n",
       "      <td>l509</td>\n",
       "      <td>5</td>\n",
       "      <td>45.9</td>\n",
       "      <td>0</td>\n",
       "      <td>Capomulin</td>\n",
       "      <td>Male</td>\n",
       "      <td>17</td>\n",
       "      <td>21</td>\n",
       "    </tr>\n",
       "    <tr>\n",
       "      <td>373</td>\n",
       "      <td>l509</td>\n",
       "      <td>10</td>\n",
       "      <td>46.8</td>\n",
       "      <td>0</td>\n",
       "      <td>Capomulin</td>\n",
       "      <td>Male</td>\n",
       "      <td>17</td>\n",
       "      <td>21</td>\n",
       "    </tr>\n",
       "    <tr>\n",
       "      <td>374</td>\n",
       "      <td>l509</td>\n",
       "      <td>15</td>\n",
       "      <td>47.5</td>\n",
       "      <td>1</td>\n",
       "      <td>Capomulin</td>\n",
       "      <td>Male</td>\n",
       "      <td>17</td>\n",
       "      <td>21</td>\n",
       "    </tr>\n",
       "    <tr>\n",
       "      <td>375</td>\n",
       "      <td>l509</td>\n",
       "      <td>20</td>\n",
       "      <td>48.1</td>\n",
       "      <td>2</td>\n",
       "      <td>Capomulin</td>\n",
       "      <td>Male</td>\n",
       "      <td>17</td>\n",
       "      <td>21</td>\n",
       "    </tr>\n",
       "  </tbody>\n",
       "</table>\n",
       "</div>"
      ],
      "text/plain": [
       "    Mouse ID  Timepoint Tumor Volume (mm3)  Metastatic Sites Drug Regimen  \\\n",
       "371     l509          0               45.0                 0    Capomulin   \n",
       "372     l509          5               45.9                 0    Capomulin   \n",
       "373     l509         10               46.8                 0    Capomulin   \n",
       "374     l509         15               47.5                 1    Capomulin   \n",
       "375     l509         20               48.1                 2    Capomulin   \n",
       "\n",
       "      Sex  Age_months  Weight (g)  \n",
       "371  Male          17          21  \n",
       "372  Male          17          21  \n",
       "373  Male          17          21  \n",
       "374  Male          17          21  \n",
       "375  Male          17          21  "
      ]
     },
     "execution_count": 81,
     "metadata": {},
     "output_type": "execute_result"
    }
   ],
   "source": [
    "# Generate a line plot of time point versus tumor volume for a mouse treated with Capomulin\n",
    "\n",
    "\n",
    "capomulin=combined_pharma_df.loc[combined_pharma_df[\"Drug Regimen\"]==\"Capomulin\"]\n",
    "\n",
    "\n",
    "select_l509=capomulin.loc[capomulin[\"Mouse ID\"] == \"l509\"]\n",
    "select_l509.head()"
   ]
  },
  {
   "cell_type": "code",
   "execution_count": 99,
   "metadata": {
    "scrolled": true
   },
   "outputs": [
    {
     "ename": "SyntaxError",
     "evalue": "invalid syntax (<ipython-input-99-ef5598c3475a>, line 5)",
     "output_type": "error",
     "traceback": [
      "\u001b[1;36m  File \u001b[1;32m\"<ipython-input-99-ef5598c3475a>\"\u001b[1;36m, line \u001b[1;32m5\u001b[0m\n\u001b[1;33m    tumor_volume_sorted=tumor_volume_list.sort_values.(ascending=True)\u001b[0m\n\u001b[1;37m                                                      ^\u001b[0m\n\u001b[1;31mSyntaxError\u001b[0m\u001b[1;31m:\u001b[0m invalid syntax\n"
     ]
    }
   ],
   "source": [
    "#declare x axis is timepoint and y axis is Tumor Volume\n",
    "timepoint_list=select_l509[\"Timepoint\"].tolist()\n",
    "tumor_volume_list=select_l509[\"Tumor Volume (mm3)\"]\n",
    "\n",
    "tumor_volume_sorted=tumor_volume_list.sort_values.(ascending=True)"
   ]
  },
  {
   "cell_type": "code",
   "execution_count": 90,
   "metadata": {},
   "outputs": [
    {
     "data": {
      "image/png": "[encoded data removed]",
      "text/plain": [
       "<Figure size 432x288 with 1 Axes>"
      ]
     },
     "metadata": {
      "needs_background": "light"
     },
     "output_type": "display_data"
    }
   ],
   "source": [
    "#create line plot\n",
    "plt.plot(timepoint_list,tumor_volume_list)\n",
    "plt.title(\"Capomulin treatment of mouse l509\")\n",
    "plt.xlabel(\"Timepoint (days)\")\n",
    "plt.ylabel(\"Tumor Volume (mm3)\")\n",
    "\n",
    "plt.show() "
   ]
  },
  {
   "cell_type": "code",
   "execution_count": 53,
   "metadata": {},
   "outputs": [],
   "source": [
    "# Generate a scatter plot of mouse weight versus average tumor volume for the Capomulin regimen\n",
    "\n",
    "#combine mouse with capomulin and find the mean value\n",
    "capomulin=combined_df.loc[combined_df[\"Drug Regimen\"]==\"Capomulin\"]\n",
    "groupbymouse=capomulin.groupby([\"Mouse ID\"]).mean()"
   ]
  },
  {
   "cell_type": "code",
   "execution_count": 54,
   "metadata": {},
   "outputs": [
    {
     "data": {
      "image/png": "[encoded data removed]",
      "text/plain": [
       "<Figure size 432x288 with 1 Axes>"
      ]
     },
     "metadata": {
      "needs_background": "light"
     },
     "output_type": "display_data"
    }
   ],
   "source": [
    "#create a scatter plot for weight in capomulin treatment\n",
    "weight = groupbymouse[\"Weight (g)\"]\n",
    "tumor_volume = groupbymouse[\"Tumor Volume (mm3)\"]\n",
    "\n",
    "plt.scatter(weight,tumor_volume)\n",
    "\n",
    "plt.xlabel(\"Weighbt (g)\")\n",
    "plt.ylabel(\"Average Tumor Volume (mm3)\")\n",
    "plt.show()"
   ]
  },
  {
   "cell_type": "code",
   "execution_count": 55,
   "metadata": {},
   "outputs": [
    {
     "name": "stdout",
     "output_type": "stream",
     "text": [
      "The coefficient correlation is: 0.84\n"
     ]
    },
    {
     "data": {
      "image/png": "[encoded data removed]",
      "text/plain": [
       "<Figure size 432x288 with 1 Axes>"
      ]
     },
     "metadata": {
      "needs_background": "light"
     },
     "output_type": "display_data"
    }
   ],
   "source": [
    "# Calculate the correlation coefficient and linear regression model for mouse weight and average tumor volume for the Capomulin regimen\n",
    "\n",
    "#define the x, y, and correlation\n",
    "weight = groupbymouse[\"Weight (g)\"]\n",
    "tumor_volume = groupbymouse[\"Tumor Volume (mm3)\"]\n",
    "correlation=st.pearsonr(weight,tumor_volume)\n",
    "\n",
    "\n",
    "(slope, intercept, rvalue, pvalue, stderr) = linregress(weight, tumor_volume)\n",
    "regress_values = weight * slope + intercept\n",
    "line_eq = \"y = \" + str(round(slope,2)) + \"x + \" + str(round(intercept,2))\n",
    "plt.scatter(weight,tumor_volume)\n",
    "plt.plot(weight,regress_values,\"r-\")\n",
    "#plt.(line_eq,(0,50),fontsize=15,color=\"red\")\n",
    "\n",
    "plt.xlabel(\"Weight (g)\")\n",
    "plt.ylabel(\"Average Tumor Volume (mm3)\")\n",
    "\n",
    "print(f\"The coefficient correlation is: {round(correlation[0],2)}\")\n",
    "plt.show()"
   ]
  },
  {
   "cell_type": "code",
   "execution_count": 56,
   "metadata": {},
   "outputs": [],
   "source": [
    "#Three Observation\n",
    "#1) In this observation, capomuline and ramicane have the highest data points while propriva has the lowest data points of \n",
    "#observation. \n",
    "#2) Capomuline and Ramicane have better effect in treating the tumor. The final tumor volume on mouse treated by \n",
    "#those 2 drugs is lower that treated by infubinol and cetamin. \n",
    "#3) Average tumor volume and average weight of mouse has a positive correlation"
   ]
  }
 ],
 "metadata": {
  "anaconda-cloud": {},
  "kernelspec": {
   "display_name": "Python 3",
   "language": "python",
   "name": "python3"
  },
  "language_info": {
   "codemirror_mode": {
    "name": "ipython",
    "version": 3
   },
   "file_extension": ".py",
   "mimetype": "text/x-python",
   "name": "python",
   "nbconvert_exporter": "python",
   "pygments_lexer": "ipython3",
   "version": "3.7.4"
  }
 },
 "nbformat": 4,
 "nbformat_minor": 4
}
